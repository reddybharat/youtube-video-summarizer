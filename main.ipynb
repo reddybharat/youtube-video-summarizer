{
 "cells": [
  {
   "cell_type": "code",
   "execution_count": null,
   "metadata": {},
   "outputs": [],
   "source": [
    "import os\n",
    "from dotenv import load_dotenv\n",
    "load_dotenv()\n",
    "\n",
    "from pytube import YouTube\n",
    "import google.generativeai as genai\n",
    "\n",
    "genai.configure(api_key=os.environ.get(\"GOOGLE_API_KEY\"))"
   ]
  },
  {
   "cell_type": "markdown",
   "metadata": {},
   "source": [
    "## Enter link to youtube video below"
   ]
  },
  {
   "cell_type": "code",
   "execution_count": null,
   "metadata": {},
   "outputs": [],
   "source": [
    "link = \"https://www.youtube.com/watch?v=VRBhIXnFnCU&list=WL&index=1\"\n",
    "yt = YouTube(link)"
   ]
  },
  {
   "cell_type": "code",
   "execution_count": null,
   "metadata": {},
   "outputs": [],
   "source": [
    "streams = yt.streams.filter(file_extension=\"mp4\").all()\n",
    "streams"
   ]
  },
  {
   "cell_type": "code",
   "execution_count": null,
   "metadata": {},
   "outputs": [],
   "source": [
    "streams[0].download()"
   ]
  },
  {
   "cell_type": "code",
   "execution_count": null,
   "metadata": {},
   "outputs": [],
   "source": [
    "# Path to the downloaded video file from the link\n",
    "video = genai.upload_file(path=\"Generative AI 101 When to use RAG vs Fine Tuning.mp4\")"
   ]
  },
  {
   "cell_type": "code",
   "execution_count": null,
   "metadata": {},
   "outputs": [],
   "source": [
    "model = genai.GenerativeModel(model_name=\"models/gemini-1.5-pro\")\n",
    "model"
   ]
  },
  {
   "cell_type": "code",
   "execution_count": null,
   "metadata": {},
   "outputs": [],
   "source": [
    "# You can change the prompt to better suit your use case\n",
    "prompt = \"Please summarize the given video. Only describe what is in the video and don't add anything on you own.\""
   ]
  },
  {
   "cell_type": "code",
   "execution_count": null,
   "metadata": {},
   "outputs": [],
   "source": [
    "response = model.generate_content([prompt, video])"
   ]
  },
  {
   "cell_type": "code",
   "execution_count": 24,
   "metadata": {},
   "outputs": [
    {
     "name": "stdout",
     "output_type": "stream",
     "text": [
      "The video is of a man, named Adit Jain, who is the Co-Founder & CEO of Leena AI. He is discussing when to use RAG vs Fine Tuning in Episode 9 of Generative AI 101. He starts by saying fine-tuning is costly because it requires a pre-trained model, a dataset that has been cleaned up and has no bias, money, engineering, and research power. He says it is not as costly as training the LLM from the start but still more costly than using an LLM API, an open source LLM directly, or even doing RAG. He states that a fine-tuned LLM is most expensive to create, but there are times when it is necessary. Adit shares an example from a recent meeting with a CIO from a large agricultural company, where they had created a model that could predict the type of crops that would grow best based on the soil, nutrients, bacteria, and the time of year. He says this is a good example of when to use fine-tuning because of the company's niche data, but they had the data, money, and resources to do it. If niche data is not available, the best option is to use RAG because it is cheaper and does not require the same resources as fine-tuning. In general, most enterprise use-cases can be solved with RAG and specific business-related use-cases can be solved with fine-tuning. Adit ends by encouraging the viewers to contact him on social media with any further questions. \n",
      "\n",
      "Token Usage :\n",
      " prompt_token_count: 108289\n",
      "candidates_token_count: 312\n",
      "total_token_count: 108601\n",
      "\n"
     ]
    }
   ],
   "source": [
    "print(response.text)\n",
    "print(f\"Token Usage :\\n {response.usage_metadata}\")"
   ]
  }
 ],
 "metadata": {
  "kernelspec": {
   "display_name": "Python 3",
   "language": "python",
   "name": "python3"
  },
  "language_info": {
   "codemirror_mode": {
    "name": "ipython",
    "version": 3
   },
   "file_extension": ".py",
   "mimetype": "text/x-python",
   "name": "python",
   "nbconvert_exporter": "python",
   "pygments_lexer": "ipython3",
   "version": "3.12.3"
  }
 },
 "nbformat": 4,
 "nbformat_minor": 2
}
